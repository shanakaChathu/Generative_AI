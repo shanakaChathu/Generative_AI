{
 "cells": [
  {
   "cell_type": "code",
   "execution_count": 1,
   "metadata": {},
   "outputs": [
    {
     "name": "stdout",
     "output_type": "stream",
     "text": [
      "Requirement already satisfied: llama-index in c:\\users\\shana\\.conda\\envs\\langchain_env\\lib\\site-packages (0.10.23)\n",
      "Requirement already satisfied: llama-index-agent-openai<0.2.0,>=0.1.4 in c:\\users\\shana\\.conda\\envs\\langchain_env\\lib\\site-packages (from llama-index) (0.1.7)\n",
      "Requirement already satisfied: llama-index-cli<0.2.0,>=0.1.2 in c:\\users\\shana\\.conda\\envs\\langchain_env\\lib\\site-packages (from llama-index) (0.1.11)\n",
      "Requirement already satisfied: llama-index-core<0.11.0,>=0.10.23 in c:\\users\\shana\\.conda\\envs\\langchain_env\\lib\\site-packages (from llama-index) (0.10.23.post1)\n",
      "Requirement already satisfied: llama-index-embeddings-openai<0.2.0,>=0.1.5 in c:\\users\\shana\\.conda\\envs\\langchain_env\\lib\\site-packages (from llama-index) (0.1.7)\n",
      "Requirement already satisfied: llama-index-indices-managed-llama-cloud<0.2.0,>=0.1.2 in c:\\users\\shana\\.conda\\envs\\langchain_env\\lib\\site-packages (from llama-index) (0.1.5)\n",
      "Requirement already satisfied: llama-index-legacy<0.10.0,>=0.9.48 in c:\\users\\shana\\.conda\\envs\\langchain_env\\lib\\site-packages (from llama-index) (0.9.48)\n",
      "Requirement already satisfied: llama-index-llms-openai<0.2.0,>=0.1.5 in c:\\users\\shana\\.conda\\envs\\langchain_env\\lib\\site-packages (from llama-index) (0.1.12)\n",
      "Requirement already satisfied: llama-index-multi-modal-llms-openai<0.2.0,>=0.1.3 in c:\\users\\shana\\.conda\\envs\\langchain_env\\lib\\site-packages (from llama-index) (0.1.4)\n",
      "Requirement already satisfied: llama-index-program-openai<0.2.0,>=0.1.3 in c:\\users\\shana\\.conda\\envs\\langchain_env\\lib\\site-packages (from llama-index) (0.1.4)\n",
      "Requirement already satisfied: llama-index-question-gen-openai<0.2.0,>=0.1.2 in c:\\users\\shana\\.conda\\envs\\langchain_env\\lib\\site-packages (from llama-index) (0.1.3)\n",
      "Requirement already satisfied: llama-index-readers-file<0.2.0,>=0.1.4 in c:\\users\\shana\\.conda\\envs\\langchain_env\\lib\\site-packages (from llama-index) (0.1.12)\n",
      "Requirement already satisfied: llama-index-readers-llama-parse<0.2.0,>=0.1.2 in c:\\users\\shana\\.conda\\envs\\langchain_env\\lib\\site-packages (from llama-index) (0.1.3)\n",
      "Requirement already satisfied: PyYAML>=6.0.1 in c:\\users\\shana\\.conda\\envs\\langchain_env\\lib\\site-packages (from llama-index-core<0.11.0,>=0.10.23->llama-index) (6.0.1)\n",
      "Requirement already satisfied: SQLAlchemy>=1.4.49 in c:\\users\\shana\\.conda\\envs\\langchain_env\\lib\\site-packages (from SQLAlchemy[asyncio]>=1.4.49->llama-index-core<0.11.0,>=0.10.23->llama-index) (2.0.28)\n",
      "Requirement already satisfied: aiohttp<4.0.0,>=3.8.6 in c:\\users\\shana\\.conda\\envs\\langchain_env\\lib\\site-packages (from llama-index-core<0.11.0,>=0.10.23->llama-index) (3.9.3)\n",
      "Requirement already satisfied: dataclasses-json in c:\\users\\shana\\.conda\\envs\\langchain_env\\lib\\site-packages (from llama-index-core<0.11.0,>=0.10.23->llama-index) (0.6.4)\n",
      "Requirement already satisfied: deprecated>=1.2.9.3 in c:\\users\\shana\\.conda\\envs\\langchain_env\\lib\\site-packages (from llama-index-core<0.11.0,>=0.10.23->llama-index) (1.2.14)\n",
      "Requirement already satisfied: dirtyjson<2.0.0,>=1.0.8 in c:\\users\\shana\\.conda\\envs\\langchain_env\\lib\\site-packages (from llama-index-core<0.11.0,>=0.10.23->llama-index) (1.0.8)\n",
      "Requirement already satisfied: fsspec>=2023.5.0 in c:\\users\\shana\\.conda\\envs\\langchain_env\\lib\\site-packages (from llama-index-core<0.11.0,>=0.10.23->llama-index) (2024.2.0)\n",
      "Requirement already satisfied: httpx in c:\\users\\shana\\.conda\\envs\\langchain_env\\lib\\site-packages (from llama-index-core<0.11.0,>=0.10.23->llama-index) (0.27.0)\n",
      "Requirement already satisfied: llamaindex-py-client<0.2.0,>=0.1.13 in c:\\users\\shana\\.conda\\envs\\langchain_env\\lib\\site-packages (from llama-index-core<0.11.0,>=0.10.23->llama-index) (0.1.13)\n",
      "Requirement already satisfied: nest-asyncio<2.0.0,>=1.5.8 in c:\\users\\shana\\.conda\\envs\\langchain_env\\lib\\site-packages (from llama-index-core<0.11.0,>=0.10.23->llama-index) (1.6.0)\n",
      "Requirement already satisfied: networkx>=3.0 in c:\\users\\shana\\.conda\\envs\\langchain_env\\lib\\site-packages (from llama-index-core<0.11.0,>=0.10.23->llama-index) (3.2.1)\n",
      "Requirement already satisfied: nltk<4.0.0,>=3.8.1 in c:\\users\\shana\\.conda\\envs\\langchain_env\\lib\\site-packages (from llama-index-core<0.11.0,>=0.10.23->llama-index) (3.8.1)\n",
      "Requirement already satisfied: numpy in c:\\users\\shana\\.conda\\envs\\langchain_env\\lib\\site-packages (from llama-index-core<0.11.0,>=0.10.23->llama-index) (1.26.4)\n",
      "Requirement already satisfied: openai>=1.1.0 in c:\\users\\shana\\.conda\\envs\\langchain_env\\lib\\site-packages (from llama-index-core<0.11.0,>=0.10.23->llama-index) (1.13.3)\n",
      "Requirement already satisfied: pandas in c:\\users\\shana\\.conda\\envs\\langchain_env\\lib\\site-packages (from llama-index-core<0.11.0,>=0.10.23->llama-index) (2.2.1)\n",
      "Requirement already satisfied: pillow>=9.0.0 in c:\\users\\shana\\.conda\\envs\\langchain_env\\lib\\site-packages (from llama-index-core<0.11.0,>=0.10.23->llama-index) (10.2.0)\n",
      "Requirement already satisfied: requests>=2.31.0 in c:\\users\\shana\\.conda\\envs\\langchain_env\\lib\\site-packages (from llama-index-core<0.11.0,>=0.10.23->llama-index) (2.31.0)\n",
      "Requirement already satisfied: tenacity<9.0.0,>=8.2.0 in c:\\users\\shana\\.conda\\envs\\langchain_env\\lib\\site-packages (from llama-index-core<0.11.0,>=0.10.23->llama-index) (8.2.3)\n",
      "Requirement already satisfied: tiktoken>=0.3.3 in c:\\users\\shana\\.conda\\envs\\langchain_env\\lib\\site-packages (from llama-index-core<0.11.0,>=0.10.23->llama-index) (0.6.0)\n",
      "Requirement already satisfied: tqdm<5.0.0,>=4.66.1 in c:\\users\\shana\\.conda\\envs\\langchain_env\\lib\\site-packages (from llama-index-core<0.11.0,>=0.10.23->llama-index) (4.66.2)\n",
      "Requirement already satisfied: typing-extensions>=4.5.0 in c:\\users\\shana\\.conda\\envs\\langchain_env\\lib\\site-packages (from llama-index-core<0.11.0,>=0.10.23->llama-index) (4.10.0)\n",
      "Requirement already satisfied: typing-inspect>=0.8.0 in c:\\users\\shana\\.conda\\envs\\langchain_env\\lib\\site-packages (from llama-index-core<0.11.0,>=0.10.23->llama-index) (0.9.0)\n",
      "Requirement already satisfied: beautifulsoup4<5.0.0,>=4.12.3 in c:\\users\\shana\\.conda\\envs\\langchain_env\\lib\\site-packages (from llama-index-readers-file<0.2.0,>=0.1.4->llama-index) (4.12.3)\n",
      "Requirement already satisfied: bs4<0.0.3,>=0.0.2 in c:\\users\\shana\\.conda\\envs\\langchain_env\\lib\\site-packages (from llama-index-readers-file<0.2.0,>=0.1.4->llama-index) (0.0.2)\n",
      "Requirement already satisfied: pymupdf<2.0.0,>=1.23.21 in c:\\users\\shana\\.conda\\envs\\langchain_env\\lib\\site-packages (from llama-index-readers-file<0.2.0,>=0.1.4->llama-index) (1.24.0)\n",
      "Requirement already satisfied: pypdf<5.0.0,>=4.0.1 in c:\\users\\shana\\.conda\\envs\\langchain_env\\lib\\site-packages (from llama-index-readers-file<0.2.0,>=0.1.4->llama-index) (4.1.0)\n",
      "Requirement already satisfied: striprtf<0.0.27,>=0.0.26 in c:\\users\\shana\\.conda\\envs\\langchain_env\\lib\\site-packages (from llama-index-readers-file<0.2.0,>=0.1.4->llama-index) (0.0.26)\n",
      "Requirement already satisfied: llama-parse<0.4.0,>=0.3.3 in c:\\users\\shana\\.conda\\envs\\langchain_env\\lib\\site-packages (from llama-index-readers-llama-parse<0.2.0,>=0.1.2->llama-index) (0.3.9)\n",
      "Requirement already satisfied: aiosignal>=1.1.2 in c:\\users\\shana\\.conda\\envs\\langchain_env\\lib\\site-packages (from aiohttp<4.0.0,>=3.8.6->llama-index-core<0.11.0,>=0.10.23->llama-index) (1.3.1)\n",
      "Requirement already satisfied: attrs>=17.3.0 in c:\\users\\shana\\.conda\\envs\\langchain_env\\lib\\site-packages (from aiohttp<4.0.0,>=3.8.6->llama-index-core<0.11.0,>=0.10.23->llama-index) (23.2.0)\n",
      "Requirement already satisfied: frozenlist>=1.1.1 in c:\\users\\shana\\.conda\\envs\\langchain_env\\lib\\site-packages (from aiohttp<4.0.0,>=3.8.6->llama-index-core<0.11.0,>=0.10.23->llama-index) (1.4.1)\n",
      "Requirement already satisfied: multidict<7.0,>=4.5 in c:\\users\\shana\\.conda\\envs\\langchain_env\\lib\\site-packages (from aiohttp<4.0.0,>=3.8.6->llama-index-core<0.11.0,>=0.10.23->llama-index) (6.0.5)\n",
      "Requirement already satisfied: yarl<2.0,>=1.0 in c:\\users\\shana\\.conda\\envs\\langchain_env\\lib\\site-packages (from aiohttp<4.0.0,>=3.8.6->llama-index-core<0.11.0,>=0.10.23->llama-index) (1.9.4)\n",
      "Requirement already satisfied: soupsieve>1.2 in c:\\users\\shana\\.conda\\envs\\langchain_env\\lib\\site-packages (from beautifulsoup4<5.0.0,>=4.12.3->llama-index-readers-file<0.2.0,>=0.1.4->llama-index) (2.5)\n",
      "Requirement already satisfied: wrapt<2,>=1.10 in c:\\users\\shana\\.conda\\envs\\langchain_env\\lib\\site-packages (from deprecated>=1.2.9.3->llama-index-core<0.11.0,>=0.10.23->llama-index) (1.16.0)\n",
      "Requirement already satisfied: pydantic>=1.10 in c:\\users\\shana\\.conda\\envs\\langchain_env\\lib\\site-packages (from llamaindex-py-client<0.2.0,>=0.1.13->llama-index-core<0.11.0,>=0.10.23->llama-index) (2.6.3)\n",
      "Requirement already satisfied: anyio in c:\\users\\shana\\.conda\\envs\\langchain_env\\lib\\site-packages (from httpx->llama-index-core<0.11.0,>=0.10.23->llama-index) (4.3.0)\n",
      "Requirement already satisfied: certifi in c:\\users\\shana\\.conda\\envs\\langchain_env\\lib\\site-packages (from httpx->llama-index-core<0.11.0,>=0.10.23->llama-index) (2024.2.2)\n",
      "Requirement already satisfied: httpcore==1.* in c:\\users\\shana\\.conda\\envs\\langchain_env\\lib\\site-packages (from httpx->llama-index-core<0.11.0,>=0.10.23->llama-index) (1.0.4)\n",
      "Requirement already satisfied: idna in c:\\users\\shana\\.conda\\envs\\langchain_env\\lib\\site-packages (from httpx->llama-index-core<0.11.0,>=0.10.23->llama-index) (3.6)\n",
      "Requirement already satisfied: sniffio in c:\\users\\shana\\.conda\\envs\\langchain_env\\lib\\site-packages (from httpx->llama-index-core<0.11.0,>=0.10.23->llama-index) (1.3.1)\n",
      "Requirement already satisfied: h11<0.15,>=0.13 in c:\\users\\shana\\.conda\\envs\\langchain_env\\lib\\site-packages (from httpcore==1.*->httpx->llama-index-core<0.11.0,>=0.10.23->llama-index) (0.14.0)\n",
      "Requirement already satisfied: click in c:\\users\\shana\\.conda\\envs\\langchain_env\\lib\\site-packages (from nltk<4.0.0,>=3.8.1->llama-index-core<0.11.0,>=0.10.23->llama-index) (8.1.7)\n",
      "Requirement already satisfied: joblib in c:\\users\\shana\\.conda\\envs\\langchain_env\\lib\\site-packages (from nltk<4.0.0,>=3.8.1->llama-index-core<0.11.0,>=0.10.23->llama-index) (1.3.2)\n",
      "Requirement already satisfied: regex>=2021.8.3 in c:\\users\\shana\\.conda\\envs\\langchain_env\\lib\\site-packages (from nltk<4.0.0,>=3.8.1->llama-index-core<0.11.0,>=0.10.23->llama-index) (2023.12.25)\n",
      "Requirement already satisfied: distro<2,>=1.7.0 in c:\\users\\shana\\.conda\\envs\\langchain_env\\lib\\site-packages (from openai>=1.1.0->llama-index-core<0.11.0,>=0.10.23->llama-index) (1.9.0)\n",
      "Requirement already satisfied: PyMuPDFb==1.24.0 in c:\\users\\shana\\.conda\\envs\\langchain_env\\lib\\site-packages (from pymupdf<2.0.0,>=1.23.21->llama-index-readers-file<0.2.0,>=0.1.4->llama-index) (1.24.0)\n",
      "Requirement already satisfied: charset-normalizer<4,>=2 in c:\\users\\shana\\.conda\\envs\\langchain_env\\lib\\site-packages (from requests>=2.31.0->llama-index-core<0.11.0,>=0.10.23->llama-index) (3.3.2)\n",
      "Requirement already satisfied: urllib3<3,>=1.21.1 in c:\\users\\shana\\.conda\\envs\\langchain_env\\lib\\site-packages (from requests>=2.31.0->llama-index-core<0.11.0,>=0.10.23->llama-index) (2.2.1)\n",
      "Requirement already satisfied: greenlet!=0.4.17 in c:\\users\\shana\\.conda\\envs\\langchain_env\\lib\\site-packages (from SQLAlchemy>=1.4.49->SQLAlchemy[asyncio]>=1.4.49->llama-index-core<0.11.0,>=0.10.23->llama-index) (3.0.3)\n",
      "Requirement already satisfied: colorama in c:\\users\\shana\\.conda\\envs\\langchain_env\\lib\\site-packages (from tqdm<5.0.0,>=4.66.1->llama-index-core<0.11.0,>=0.10.23->llama-index) (0.4.6)\n",
      "Requirement already satisfied: mypy-extensions>=0.3.0 in c:\\users\\shana\\.conda\\envs\\langchain_env\\lib\\site-packages (from typing-inspect>=0.8.0->llama-index-core<0.11.0,>=0.10.23->llama-index) (1.0.0)\n",
      "Requirement already satisfied: marshmallow<4.0.0,>=3.18.0 in c:\\users\\shana\\.conda\\envs\\langchain_env\\lib\\site-packages (from dataclasses-json->llama-index-core<0.11.0,>=0.10.23->llama-index) (3.21.0)\n",
      "Requirement already satisfied: python-dateutil>=2.8.2 in c:\\users\\shana\\.conda\\envs\\langchain_env\\lib\\site-packages (from pandas->llama-index-core<0.11.0,>=0.10.23->llama-index) (2.9.0)\n",
      "Requirement already satisfied: pytz>=2020.1 in c:\\users\\shana\\.conda\\envs\\langchain_env\\lib\\site-packages (from pandas->llama-index-core<0.11.0,>=0.10.23->llama-index) (2024.1)\n",
      "Requirement already satisfied: tzdata>=2022.7 in c:\\users\\shana\\.conda\\envs\\langchain_env\\lib\\site-packages (from pandas->llama-index-core<0.11.0,>=0.10.23->llama-index) (2024.1)\n",
      "Requirement already satisfied: packaging>=17.0 in c:\\users\\shana\\.conda\\envs\\langchain_env\\lib\\site-packages (from marshmallow<4.0.0,>=3.18.0->dataclasses-json->llama-index-core<0.11.0,>=0.10.23->llama-index) (23.2)\n",
      "Requirement already satisfied: annotated-types>=0.4.0 in c:\\users\\shana\\.conda\\envs\\langchain_env\\lib\\site-packages (from pydantic>=1.10->llamaindex-py-client<0.2.0,>=0.1.13->llama-index-core<0.11.0,>=0.10.23->llama-index) (0.6.0)\n",
      "Requirement already satisfied: pydantic-core==2.16.3 in c:\\users\\shana\\.conda\\envs\\langchain_env\\lib\\site-packages (from pydantic>=1.10->llamaindex-py-client<0.2.0,>=0.1.13->llama-index-core<0.11.0,>=0.10.23->llama-index) (2.16.3)\n",
      "Requirement already satisfied: six>=1.5 in c:\\users\\shana\\.conda\\envs\\langchain_env\\lib\\site-packages (from python-dateutil>=2.8.2->pandas->llama-index-core<0.11.0,>=0.10.23->llama-index) (1.16.0)\n",
      "Collecting llama-index-llms-ollama\n",
      "  Downloading llama_index_llms_ollama-0.1.3-py3-none-any.whl.metadata (585 bytes)\n",
      "Requirement already satisfied: llama-index-core<0.11.0,>=0.10.1 in c:\\users\\shana\\.conda\\envs\\langchain_env\\lib\\site-packages (from llama-index-llms-ollama) (0.10.23.post1)\n",
      "Requirement already satisfied: PyYAML>=6.0.1 in c:\\users\\shana\\.conda\\envs\\langchain_env\\lib\\site-packages (from llama-index-core<0.11.0,>=0.10.1->llama-index-llms-ollama) (6.0.1)\n",
      "Requirement already satisfied: SQLAlchemy>=1.4.49 in c:\\users\\shana\\.conda\\envs\\langchain_env\\lib\\site-packages (from SQLAlchemy[asyncio]>=1.4.49->llama-index-core<0.11.0,>=0.10.1->llama-index-llms-ollama) (2.0.28)\n",
      "Requirement already satisfied: aiohttp<4.0.0,>=3.8.6 in c:\\users\\shana\\.conda\\envs\\langchain_env\\lib\\site-packages (from llama-index-core<0.11.0,>=0.10.1->llama-index-llms-ollama) (3.9.3)\n",
      "Requirement already satisfied: dataclasses-json in c:\\users\\shana\\.conda\\envs\\langchain_env\\lib\\site-packages (from llama-index-core<0.11.0,>=0.10.1->llama-index-llms-ollama) (0.6.4)\n",
      "Requirement already satisfied: deprecated>=1.2.9.3 in c:\\users\\shana\\.conda\\envs\\langchain_env\\lib\\site-packages (from llama-index-core<0.11.0,>=0.10.1->llama-index-llms-ollama) (1.2.14)\n",
      "Requirement already satisfied: dirtyjson<2.0.0,>=1.0.8 in c:\\users\\shana\\.conda\\envs\\langchain_env\\lib\\site-packages (from llama-index-core<0.11.0,>=0.10.1->llama-index-llms-ollama) (1.0.8)\n",
      "Requirement already satisfied: fsspec>=2023.5.0 in c:\\users\\shana\\.conda\\envs\\langchain_env\\lib\\site-packages (from llama-index-core<0.11.0,>=0.10.1->llama-index-llms-ollama) (2024.2.0)\n",
      "Requirement already satisfied: httpx in c:\\users\\shana\\.conda\\envs\\langchain_env\\lib\\site-packages (from llama-index-core<0.11.0,>=0.10.1->llama-index-llms-ollama) (0.27.0)\n",
      "Requirement already satisfied: llamaindex-py-client<0.2.0,>=0.1.13 in c:\\users\\shana\\.conda\\envs\\langchain_env\\lib\\site-packages (from llama-index-core<0.11.0,>=0.10.1->llama-index-llms-ollama) (0.1.13)\n",
      "Requirement already satisfied: nest-asyncio<2.0.0,>=1.5.8 in c:\\users\\shana\\.conda\\envs\\langchain_env\\lib\\site-packages (from llama-index-core<0.11.0,>=0.10.1->llama-index-llms-ollama) (1.6.0)\n",
      "Requirement already satisfied: networkx>=3.0 in c:\\users\\shana\\.conda\\envs\\langchain_env\\lib\\site-packages (from llama-index-core<0.11.0,>=0.10.1->llama-index-llms-ollama) (3.2.1)\n",
      "Requirement already satisfied: nltk<4.0.0,>=3.8.1 in c:\\users\\shana\\.conda\\envs\\langchain_env\\lib\\site-packages (from llama-index-core<0.11.0,>=0.10.1->llama-index-llms-ollama) (3.8.1)\n",
      "Requirement already satisfied: numpy in c:\\users\\shana\\.conda\\envs\\langchain_env\\lib\\site-packages (from llama-index-core<0.11.0,>=0.10.1->llama-index-llms-ollama) (1.26.4)\n",
      "Requirement already satisfied: openai>=1.1.0 in c:\\users\\shana\\.conda\\envs\\langchain_env\\lib\\site-packages (from llama-index-core<0.11.0,>=0.10.1->llama-index-llms-ollama) (1.13.3)\n",
      "Requirement already satisfied: pandas in c:\\users\\shana\\.conda\\envs\\langchain_env\\lib\\site-packages (from llama-index-core<0.11.0,>=0.10.1->llama-index-llms-ollama) (2.2.1)\n",
      "Requirement already satisfied: pillow>=9.0.0 in c:\\users\\shana\\.conda\\envs\\langchain_env\\lib\\site-packages (from llama-index-core<0.11.0,>=0.10.1->llama-index-llms-ollama) (10.2.0)\n",
      "Requirement already satisfied: requests>=2.31.0 in c:\\users\\shana\\.conda\\envs\\langchain_env\\lib\\site-packages (from llama-index-core<0.11.0,>=0.10.1->llama-index-llms-ollama) (2.31.0)\n",
      "Requirement already satisfied: tenacity<9.0.0,>=8.2.0 in c:\\users\\shana\\.conda\\envs\\langchain_env\\lib\\site-packages (from llama-index-core<0.11.0,>=0.10.1->llama-index-llms-ollama) (8.2.3)\n",
      "Requirement already satisfied: tiktoken>=0.3.3 in c:\\users\\shana\\.conda\\envs\\langchain_env\\lib\\site-packages (from llama-index-core<0.11.0,>=0.10.1->llama-index-llms-ollama) (0.6.0)\n",
      "Requirement already satisfied: tqdm<5.0.0,>=4.66.1 in c:\\users\\shana\\.conda\\envs\\langchain_env\\lib\\site-packages (from llama-index-core<0.11.0,>=0.10.1->llama-index-llms-ollama) (4.66.2)\n",
      "Requirement already satisfied: typing-extensions>=4.5.0 in c:\\users\\shana\\.conda\\envs\\langchain_env\\lib\\site-packages (from llama-index-core<0.11.0,>=0.10.1->llama-index-llms-ollama) (4.10.0)\n",
      "Requirement already satisfied: typing-inspect>=0.8.0 in c:\\users\\shana\\.conda\\envs\\langchain_env\\lib\\site-packages (from llama-index-core<0.11.0,>=0.10.1->llama-index-llms-ollama) (0.9.0)\n",
      "Requirement already satisfied: aiosignal>=1.1.2 in c:\\users\\shana\\.conda\\envs\\langchain_env\\lib\\site-packages (from aiohttp<4.0.0,>=3.8.6->llama-index-core<0.11.0,>=0.10.1->llama-index-llms-ollama) (1.3.1)\n",
      "Requirement already satisfied: attrs>=17.3.0 in c:\\users\\shana\\.conda\\envs\\langchain_env\\lib\\site-packages (from aiohttp<4.0.0,>=3.8.6->llama-index-core<0.11.0,>=0.10.1->llama-index-llms-ollama) (23.2.0)\n",
      "Requirement already satisfied: frozenlist>=1.1.1 in c:\\users\\shana\\.conda\\envs\\langchain_env\\lib\\site-packages (from aiohttp<4.0.0,>=3.8.6->llama-index-core<0.11.0,>=0.10.1->llama-index-llms-ollama) (1.4.1)\n",
      "Requirement already satisfied: multidict<7.0,>=4.5 in c:\\users\\shana\\.conda\\envs\\langchain_env\\lib\\site-packages (from aiohttp<4.0.0,>=3.8.6->llama-index-core<0.11.0,>=0.10.1->llama-index-llms-ollama) (6.0.5)\n",
      "Requirement already satisfied: yarl<2.0,>=1.0 in c:\\users\\shana\\.conda\\envs\\langchain_env\\lib\\site-packages (from aiohttp<4.0.0,>=3.8.6->llama-index-core<0.11.0,>=0.10.1->llama-index-llms-ollama) (1.9.4)\n",
      "Requirement already satisfied: wrapt<2,>=1.10 in c:\\users\\shana\\.conda\\envs\\langchain_env\\lib\\site-packages (from deprecated>=1.2.9.3->llama-index-core<0.11.0,>=0.10.1->llama-index-llms-ollama) (1.16.0)\n",
      "Requirement already satisfied: pydantic>=1.10 in c:\\users\\shana\\.conda\\envs\\langchain_env\\lib\\site-packages (from llamaindex-py-client<0.2.0,>=0.1.13->llama-index-core<0.11.0,>=0.10.1->llama-index-llms-ollama) (2.6.3)\n",
      "Requirement already satisfied: anyio in c:\\users\\shana\\.conda\\envs\\langchain_env\\lib\\site-packages (from httpx->llama-index-core<0.11.0,>=0.10.1->llama-index-llms-ollama) (4.3.0)\n",
      "Requirement already satisfied: certifi in c:\\users\\shana\\.conda\\envs\\langchain_env\\lib\\site-packages (from httpx->llama-index-core<0.11.0,>=0.10.1->llama-index-llms-ollama) (2024.2.2)\n",
      "Requirement already satisfied: httpcore==1.* in c:\\users\\shana\\.conda\\envs\\langchain_env\\lib\\site-packages (from httpx->llama-index-core<0.11.0,>=0.10.1->llama-index-llms-ollama) (1.0.4)\n",
      "Requirement already satisfied: idna in c:\\users\\shana\\.conda\\envs\\langchain_env\\lib\\site-packages (from httpx->llama-index-core<0.11.0,>=0.10.1->llama-index-llms-ollama) (3.6)\n",
      "Requirement already satisfied: sniffio in c:\\users\\shana\\.conda\\envs\\langchain_env\\lib\\site-packages (from httpx->llama-index-core<0.11.0,>=0.10.1->llama-index-llms-ollama) (1.3.1)\n",
      "Requirement already satisfied: h11<0.15,>=0.13 in c:\\users\\shana\\.conda\\envs\\langchain_env\\lib\\site-packages (from httpcore==1.*->httpx->llama-index-core<0.11.0,>=0.10.1->llama-index-llms-ollama) (0.14.0)\n",
      "Requirement already satisfied: click in c:\\users\\shana\\.conda\\envs\\langchain_env\\lib\\site-packages (from nltk<4.0.0,>=3.8.1->llama-index-core<0.11.0,>=0.10.1->llama-index-llms-ollama) (8.1.7)\n",
      "Requirement already satisfied: joblib in c:\\users\\shana\\.conda\\envs\\langchain_env\\lib\\site-packages (from nltk<4.0.0,>=3.8.1->llama-index-core<0.11.0,>=0.10.1->llama-index-llms-ollama) (1.3.2)\n",
      "Requirement already satisfied: regex>=2021.8.3 in c:\\users\\shana\\.conda\\envs\\langchain_env\\lib\\site-packages (from nltk<4.0.0,>=3.8.1->llama-index-core<0.11.0,>=0.10.1->llama-index-llms-ollama) (2023.12.25)\n",
      "Requirement already satisfied: distro<2,>=1.7.0 in c:\\users\\shana\\.conda\\envs\\langchain_env\\lib\\site-packages (from openai>=1.1.0->llama-index-core<0.11.0,>=0.10.1->llama-index-llms-ollama) (1.9.0)\n",
      "Requirement already satisfied: charset-normalizer<4,>=2 in c:\\users\\shana\\.conda\\envs\\langchain_env\\lib\\site-packages (from requests>=2.31.0->llama-index-core<0.11.0,>=0.10.1->llama-index-llms-ollama) (3.3.2)\n",
      "Requirement already satisfied: urllib3<3,>=1.21.1 in c:\\users\\shana\\.conda\\envs\\langchain_env\\lib\\site-packages (from requests>=2.31.0->llama-index-core<0.11.0,>=0.10.1->llama-index-llms-ollama) (2.2.1)\n",
      "Requirement already satisfied: greenlet!=0.4.17 in c:\\users\\shana\\.conda\\envs\\langchain_env\\lib\\site-packages (from SQLAlchemy>=1.4.49->SQLAlchemy[asyncio]>=1.4.49->llama-index-core<0.11.0,>=0.10.1->llama-index-llms-ollama) (3.0.3)\n",
      "Requirement already satisfied: colorama in c:\\users\\shana\\.conda\\envs\\langchain_env\\lib\\site-packages (from tqdm<5.0.0,>=4.66.1->llama-index-core<0.11.0,>=0.10.1->llama-index-llms-ollama) (0.4.6)\n",
      "Requirement already satisfied: mypy-extensions>=0.3.0 in c:\\users\\shana\\.conda\\envs\\langchain_env\\lib\\site-packages (from typing-inspect>=0.8.0->llama-index-core<0.11.0,>=0.10.1->llama-index-llms-ollama) (1.0.0)\n",
      "Requirement already satisfied: marshmallow<4.0.0,>=3.18.0 in c:\\users\\shana\\.conda\\envs\\langchain_env\\lib\\site-packages (from dataclasses-json->llama-index-core<0.11.0,>=0.10.1->llama-index-llms-ollama) (3.21.0)\n",
      "Requirement already satisfied: python-dateutil>=2.8.2 in c:\\users\\shana\\.conda\\envs\\langchain_env\\lib\\site-packages (from pandas->llama-index-core<0.11.0,>=0.10.1->llama-index-llms-ollama) (2.9.0)\n",
      "Requirement already satisfied: pytz>=2020.1 in c:\\users\\shana\\.conda\\envs\\langchain_env\\lib\\site-packages (from pandas->llama-index-core<0.11.0,>=0.10.1->llama-index-llms-ollama) (2024.1)\n",
      "Requirement already satisfied: tzdata>=2022.7 in c:\\users\\shana\\.conda\\envs\\langchain_env\\lib\\site-packages (from pandas->llama-index-core<0.11.0,>=0.10.1->llama-index-llms-ollama) (2024.1)\n",
      "Requirement already satisfied: packaging>=17.0 in c:\\users\\shana\\.conda\\envs\\langchain_env\\lib\\site-packages (from marshmallow<4.0.0,>=3.18.0->dataclasses-json->llama-index-core<0.11.0,>=0.10.1->llama-index-llms-ollama) (23.2)\n",
      "Requirement already satisfied: annotated-types>=0.4.0 in c:\\users\\shana\\.conda\\envs\\langchain_env\\lib\\site-packages (from pydantic>=1.10->llamaindex-py-client<0.2.0,>=0.1.13->llama-index-core<0.11.0,>=0.10.1->llama-index-llms-ollama) (0.6.0)\n",
      "Requirement already satisfied: pydantic-core==2.16.3 in c:\\users\\shana\\.conda\\envs\\langchain_env\\lib\\site-packages (from pydantic>=1.10->llamaindex-py-client<0.2.0,>=0.1.13->llama-index-core<0.11.0,>=0.10.1->llama-index-llms-ollama) (2.16.3)\n",
      "Requirement already satisfied: six>=1.5 in c:\\users\\shana\\.conda\\envs\\langchain_env\\lib\\site-packages (from python-dateutil>=2.8.2->pandas->llama-index-core<0.11.0,>=0.10.1->llama-index-llms-ollama) (1.16.0)\n",
      "Downloading llama_index_llms_ollama-0.1.3-py3-none-any.whl (3.6 kB)\n",
      "Installing collected packages: llama-index-llms-ollama\n",
      "Successfully installed llama-index-llms-ollama-0.1.3\n",
      "Collecting llama-index-llms-replicate\n",
      "  Downloading llama_index_llms_replicate-0.1.3-py3-none-any.whl.metadata (645 bytes)\n",
      "Requirement already satisfied: llama-index-core<0.11.0,>=0.10.1 in c:\\users\\shana\\.conda\\envs\\langchain_env\\lib\\site-packages (from llama-index-llms-replicate) (0.10.23.post1)\n",
      "Requirement already satisfied: PyYAML>=6.0.1 in c:\\users\\shana\\.conda\\envs\\langchain_env\\lib\\site-packages (from llama-index-core<0.11.0,>=0.10.1->llama-index-llms-replicate) (6.0.1)\n",
      "Requirement already satisfied: SQLAlchemy>=1.4.49 in c:\\users\\shana\\.conda\\envs\\langchain_env\\lib\\site-packages (from SQLAlchemy[asyncio]>=1.4.49->llama-index-core<0.11.0,>=0.10.1->llama-index-llms-replicate) (2.0.28)\n",
      "Requirement already satisfied: aiohttp<4.0.0,>=3.8.6 in c:\\users\\shana\\.conda\\envs\\langchain_env\\lib\\site-packages (from llama-index-core<0.11.0,>=0.10.1->llama-index-llms-replicate) (3.9.3)\n",
      "Requirement already satisfied: dataclasses-json in c:\\users\\shana\\.conda\\envs\\langchain_env\\lib\\site-packages (from llama-index-core<0.11.0,>=0.10.1->llama-index-llms-replicate) (0.6.4)\n",
      "Requirement already satisfied: deprecated>=1.2.9.3 in c:\\users\\shana\\.conda\\envs\\langchain_env\\lib\\site-packages (from llama-index-core<0.11.0,>=0.10.1->llama-index-llms-replicate) (1.2.14)\n",
      "Requirement already satisfied: dirtyjson<2.0.0,>=1.0.8 in c:\\users\\shana\\.conda\\envs\\langchain_env\\lib\\site-packages (from llama-index-core<0.11.0,>=0.10.1->llama-index-llms-replicate) (1.0.8)\n",
      "Requirement already satisfied: fsspec>=2023.5.0 in c:\\users\\shana\\.conda\\envs\\langchain_env\\lib\\site-packages (from llama-index-core<0.11.0,>=0.10.1->llama-index-llms-replicate) (2024.2.0)\n",
      "Requirement already satisfied: httpx in c:\\users\\shana\\.conda\\envs\\langchain_env\\lib\\site-packages (from llama-index-core<0.11.0,>=0.10.1->llama-index-llms-replicate) (0.27.0)\n",
      "Requirement already satisfied: llamaindex-py-client<0.2.0,>=0.1.13 in c:\\users\\shana\\.conda\\envs\\langchain_env\\lib\\site-packages (from llama-index-core<0.11.0,>=0.10.1->llama-index-llms-replicate) (0.1.13)\n",
      "Requirement already satisfied: nest-asyncio<2.0.0,>=1.5.8 in c:\\users\\shana\\.conda\\envs\\langchain_env\\lib\\site-packages (from llama-index-core<0.11.0,>=0.10.1->llama-index-llms-replicate) (1.6.0)\n",
      "Requirement already satisfied: networkx>=3.0 in c:\\users\\shana\\.conda\\envs\\langchain_env\\lib\\site-packages (from llama-index-core<0.11.0,>=0.10.1->llama-index-llms-replicate) (3.2.1)\n",
      "Requirement already satisfied: nltk<4.0.0,>=3.8.1 in c:\\users\\shana\\.conda\\envs\\langchain_env\\lib\\site-packages (from llama-index-core<0.11.0,>=0.10.1->llama-index-llms-replicate) (3.8.1)\n",
      "Requirement already satisfied: numpy in c:\\users\\shana\\.conda\\envs\\langchain_env\\lib\\site-packages (from llama-index-core<0.11.0,>=0.10.1->llama-index-llms-replicate) (1.26.4)\n",
      "Requirement already satisfied: openai>=1.1.0 in c:\\users\\shana\\.conda\\envs\\langchain_env\\lib\\site-packages (from llama-index-core<0.11.0,>=0.10.1->llama-index-llms-replicate) (1.13.3)\n",
      "Requirement already satisfied: pandas in c:\\users\\shana\\.conda\\envs\\langchain_env\\lib\\site-packages (from llama-index-core<0.11.0,>=0.10.1->llama-index-llms-replicate) (2.2.1)\n",
      "Requirement already satisfied: pillow>=9.0.0 in c:\\users\\shana\\.conda\\envs\\langchain_env\\lib\\site-packages (from llama-index-core<0.11.0,>=0.10.1->llama-index-llms-replicate) (10.2.0)\n",
      "Requirement already satisfied: requests>=2.31.0 in c:\\users\\shana\\.conda\\envs\\langchain_env\\lib\\site-packages (from llama-index-core<0.11.0,>=0.10.1->llama-index-llms-replicate) (2.31.0)\n",
      "Requirement already satisfied: tenacity<9.0.0,>=8.2.0 in c:\\users\\shana\\.conda\\envs\\langchain_env\\lib\\site-packages (from llama-index-core<0.11.0,>=0.10.1->llama-index-llms-replicate) (8.2.3)\n",
      "Requirement already satisfied: tiktoken>=0.3.3 in c:\\users\\shana\\.conda\\envs\\langchain_env\\lib\\site-packages (from llama-index-core<0.11.0,>=0.10.1->llama-index-llms-replicate) (0.6.0)\n",
      "Requirement already satisfied: tqdm<5.0.0,>=4.66.1 in c:\\users\\shana\\.conda\\envs\\langchain_env\\lib\\site-packages (from llama-index-core<0.11.0,>=0.10.1->llama-index-llms-replicate) (4.66.2)\n",
      "Requirement already satisfied: typing-extensions>=4.5.0 in c:\\users\\shana\\.conda\\envs\\langchain_env\\lib\\site-packages (from llama-index-core<0.11.0,>=0.10.1->llama-index-llms-replicate) (4.10.0)\n",
      "Requirement already satisfied: typing-inspect>=0.8.0 in c:\\users\\shana\\.conda\\envs\\langchain_env\\lib\\site-packages (from llama-index-core<0.11.0,>=0.10.1->llama-index-llms-replicate) (0.9.0)\n",
      "Requirement already satisfied: aiosignal>=1.1.2 in c:\\users\\shana\\.conda\\envs\\langchain_env\\lib\\site-packages (from aiohttp<4.0.0,>=3.8.6->llama-index-core<0.11.0,>=0.10.1->llama-index-llms-replicate) (1.3.1)\n",
      "Requirement already satisfied: attrs>=17.3.0 in c:\\users\\shana\\.conda\\envs\\langchain_env\\lib\\site-packages (from aiohttp<4.0.0,>=3.8.6->llama-index-core<0.11.0,>=0.10.1->llama-index-llms-replicate) (23.2.0)\n",
      "Requirement already satisfied: frozenlist>=1.1.1 in c:\\users\\shana\\.conda\\envs\\langchain_env\\lib\\site-packages (from aiohttp<4.0.0,>=3.8.6->llama-index-core<0.11.0,>=0.10.1->llama-index-llms-replicate) (1.4.1)\n",
      "Requirement already satisfied: multidict<7.0,>=4.5 in c:\\users\\shana\\.conda\\envs\\langchain_env\\lib\\site-packages (from aiohttp<4.0.0,>=3.8.6->llama-index-core<0.11.0,>=0.10.1->llama-index-llms-replicate) (6.0.5)\n",
      "Requirement already satisfied: yarl<2.0,>=1.0 in c:\\users\\shana\\.conda\\envs\\langchain_env\\lib\\site-packages (from aiohttp<4.0.0,>=3.8.6->llama-index-core<0.11.0,>=0.10.1->llama-index-llms-replicate) (1.9.4)\n",
      "Requirement already satisfied: wrapt<2,>=1.10 in c:\\users\\shana\\.conda\\envs\\langchain_env\\lib\\site-packages (from deprecated>=1.2.9.3->llama-index-core<0.11.0,>=0.10.1->llama-index-llms-replicate) (1.16.0)\n",
      "Requirement already satisfied: pydantic>=1.10 in c:\\users\\shana\\.conda\\envs\\langchain_env\\lib\\site-packages (from llamaindex-py-client<0.2.0,>=0.1.13->llama-index-core<0.11.0,>=0.10.1->llama-index-llms-replicate) (2.6.3)\n",
      "Requirement already satisfied: anyio in c:\\users\\shana\\.conda\\envs\\langchain_env\\lib\\site-packages (from httpx->llama-index-core<0.11.0,>=0.10.1->llama-index-llms-replicate) (4.3.0)\n",
      "Requirement already satisfied: certifi in c:\\users\\shana\\.conda\\envs\\langchain_env\\lib\\site-packages (from httpx->llama-index-core<0.11.0,>=0.10.1->llama-index-llms-replicate) (2024.2.2)\n",
      "Requirement already satisfied: httpcore==1.* in c:\\users\\shana\\.conda\\envs\\langchain_env\\lib\\site-packages (from httpx->llama-index-core<0.11.0,>=0.10.1->llama-index-llms-replicate) (1.0.4)\n",
      "Requirement already satisfied: idna in c:\\users\\shana\\.conda\\envs\\langchain_env\\lib\\site-packages (from httpx->llama-index-core<0.11.0,>=0.10.1->llama-index-llms-replicate) (3.6)\n",
      "Requirement already satisfied: sniffio in c:\\users\\shana\\.conda\\envs\\langchain_env\\lib\\site-packages (from httpx->llama-index-core<0.11.0,>=0.10.1->llama-index-llms-replicate) (1.3.1)\n",
      "Requirement already satisfied: h11<0.15,>=0.13 in c:\\users\\shana\\.conda\\envs\\langchain_env\\lib\\site-packages (from httpcore==1.*->httpx->llama-index-core<0.11.0,>=0.10.1->llama-index-llms-replicate) (0.14.0)\n",
      "Requirement already satisfied: click in c:\\users\\shana\\.conda\\envs\\langchain_env\\lib\\site-packages (from nltk<4.0.0,>=3.8.1->llama-index-core<0.11.0,>=0.10.1->llama-index-llms-replicate) (8.1.7)\n",
      "Requirement already satisfied: joblib in c:\\users\\shana\\.conda\\envs\\langchain_env\\lib\\site-packages (from nltk<4.0.0,>=3.8.1->llama-index-core<0.11.0,>=0.10.1->llama-index-llms-replicate) (1.3.2)\n",
      "Requirement already satisfied: regex>=2021.8.3 in c:\\users\\shana\\.conda\\envs\\langchain_env\\lib\\site-packages (from nltk<4.0.0,>=3.8.1->llama-index-core<0.11.0,>=0.10.1->llama-index-llms-replicate) (2023.12.25)\n",
      "Requirement already satisfied: distro<2,>=1.7.0 in c:\\users\\shana\\.conda\\envs\\langchain_env\\lib\\site-packages (from openai>=1.1.0->llama-index-core<0.11.0,>=0.10.1->llama-index-llms-replicate) (1.9.0)\n",
      "Requirement already satisfied: charset-normalizer<4,>=2 in c:\\users\\shana\\.conda\\envs\\langchain_env\\lib\\site-packages (from requests>=2.31.0->llama-index-core<0.11.0,>=0.10.1->llama-index-llms-replicate) (3.3.2)\n",
      "Requirement already satisfied: urllib3<3,>=1.21.1 in c:\\users\\shana\\.conda\\envs\\langchain_env\\lib\\site-packages (from requests>=2.31.0->llama-index-core<0.11.0,>=0.10.1->llama-index-llms-replicate) (2.2.1)\n",
      "Requirement already satisfied: greenlet!=0.4.17 in c:\\users\\shana\\.conda\\envs\\langchain_env\\lib\\site-packages (from SQLAlchemy>=1.4.49->SQLAlchemy[asyncio]>=1.4.49->llama-index-core<0.11.0,>=0.10.1->llama-index-llms-replicate) (3.0.3)\n",
      "Requirement already satisfied: colorama in c:\\users\\shana\\.conda\\envs\\langchain_env\\lib\\site-packages (from tqdm<5.0.0,>=4.66.1->llama-index-core<0.11.0,>=0.10.1->llama-index-llms-replicate) (0.4.6)\n",
      "Requirement already satisfied: mypy-extensions>=0.3.0 in c:\\users\\shana\\.conda\\envs\\langchain_env\\lib\\site-packages (from typing-inspect>=0.8.0->llama-index-core<0.11.0,>=0.10.1->llama-index-llms-replicate) (1.0.0)\n",
      "Requirement already satisfied: marshmallow<4.0.0,>=3.18.0 in c:\\users\\shana\\.conda\\envs\\langchain_env\\lib\\site-packages (from dataclasses-json->llama-index-core<0.11.0,>=0.10.1->llama-index-llms-replicate) (3.21.0)\n",
      "Requirement already satisfied: python-dateutil>=2.8.2 in c:\\users\\shana\\.conda\\envs\\langchain_env\\lib\\site-packages (from pandas->llama-index-core<0.11.0,>=0.10.1->llama-index-llms-replicate) (2.9.0)\n",
      "Requirement already satisfied: pytz>=2020.1 in c:\\users\\shana\\.conda\\envs\\langchain_env\\lib\\site-packages (from pandas->llama-index-core<0.11.0,>=0.10.1->llama-index-llms-replicate) (2024.1)\n",
      "Requirement already satisfied: tzdata>=2022.7 in c:\\users\\shana\\.conda\\envs\\langchain_env\\lib\\site-packages (from pandas->llama-index-core<0.11.0,>=0.10.1->llama-index-llms-replicate) (2024.1)\n",
      "Requirement already satisfied: packaging>=17.0 in c:\\users\\shana\\.conda\\envs\\langchain_env\\lib\\site-packages (from marshmallow<4.0.0,>=3.18.0->dataclasses-json->llama-index-core<0.11.0,>=0.10.1->llama-index-llms-replicate) (23.2)\n",
      "Requirement already satisfied: annotated-types>=0.4.0 in c:\\users\\shana\\.conda\\envs\\langchain_env\\lib\\site-packages (from pydantic>=1.10->llamaindex-py-client<0.2.0,>=0.1.13->llama-index-core<0.11.0,>=0.10.1->llama-index-llms-replicate) (0.6.0)\n",
      "Requirement already satisfied: pydantic-core==2.16.3 in c:\\users\\shana\\.conda\\envs\\langchain_env\\lib\\site-packages (from pydantic>=1.10->llamaindex-py-client<0.2.0,>=0.1.13->llama-index-core<0.11.0,>=0.10.1->llama-index-llms-replicate) (2.16.3)\n",
      "Requirement already satisfied: six>=1.5 in c:\\users\\shana\\.conda\\envs\\langchain_env\\lib\\site-packages (from python-dateutil>=2.8.2->pandas->llama-index-core<0.11.0,>=0.10.1->llama-index-llms-replicate) (1.16.0)\n",
      "Downloading llama_index_llms_replicate-0.1.3-py3-none-any.whl (2.9 kB)\n",
      "Installing collected packages: llama-index-llms-replicate\n",
      "Successfully installed llama-index-llms-replicate-0.1.3\n",
      "Collecting llama-index-embeddings-huggingface\n",
      "  Downloading llama_index_embeddings_huggingface-0.2.0-py3-none-any.whl.metadata (725 bytes)\n",
      "Requirement already satisfied: huggingface-hub>=0.19.0 in c:\\users\\shana\\.conda\\envs\\langchain_env\\lib\\site-packages (from huggingface-hub[inference]>=0.19.0->llama-index-embeddings-huggingface) (0.20.3)\n",
      "Requirement already satisfied: llama-index-core<0.11.0,>=0.10.1 in c:\\users\\shana\\.conda\\envs\\langchain_env\\lib\\site-packages (from llama-index-embeddings-huggingface) (0.10.23.post1)\n",
      "Collecting sentence-transformers<3.0.0,>=2.6.1 (from llama-index-embeddings-huggingface)\n",
      "  Downloading sentence_transformers-2.7.0-py3-none-any.whl.metadata (11 kB)\n",
      "Requirement already satisfied: filelock in c:\\users\\shana\\.conda\\envs\\langchain_env\\lib\\site-packages (from huggingface-hub>=0.19.0->huggingface-hub[inference]>=0.19.0->llama-index-embeddings-huggingface) (3.13.1)\n",
      "Requirement already satisfied: fsspec>=2023.5.0 in c:\\users\\shana\\.conda\\envs\\langchain_env\\lib\\site-packages (from huggingface-hub>=0.19.0->huggingface-hub[inference]>=0.19.0->llama-index-embeddings-huggingface) (2024.2.0)\n",
      "Requirement already satisfied: requests in c:\\users\\shana\\.conda\\envs\\langchain_env\\lib\\site-packages (from huggingface-hub>=0.19.0->huggingface-hub[inference]>=0.19.0->llama-index-embeddings-huggingface) (2.31.0)\n",
      "Requirement already satisfied: tqdm>=4.42.1 in c:\\users\\shana\\.conda\\envs\\langchain_env\\lib\\site-packages (from huggingface-hub>=0.19.0->huggingface-hub[inference]>=0.19.0->llama-index-embeddings-huggingface) (4.66.2)\n",
      "Requirement already satisfied: pyyaml>=5.1 in c:\\users\\shana\\.conda\\envs\\langchain_env\\lib\\site-packages (from huggingface-hub>=0.19.0->huggingface-hub[inference]>=0.19.0->llama-index-embeddings-huggingface) (6.0.1)\n",
      "Requirement already satisfied: typing-extensions>=3.7.4.3 in c:\\users\\shana\\.conda\\envs\\langchain_env\\lib\\site-packages (from huggingface-hub>=0.19.0->huggingface-hub[inference]>=0.19.0->llama-index-embeddings-huggingface) (4.10.0)\n",
      "Requirement already satisfied: packaging>=20.9 in c:\\users\\shana\\.conda\\envs\\langchain_env\\lib\\site-packages (from huggingface-hub>=0.19.0->huggingface-hub[inference]>=0.19.0->llama-index-embeddings-huggingface) (23.2)\n",
      "Requirement already satisfied: aiohttp in c:\\users\\shana\\.conda\\envs\\langchain_env\\lib\\site-packages (from huggingface-hub[inference]>=0.19.0->llama-index-embeddings-huggingface) (3.9.3)\n",
      "Requirement already satisfied: pydantic<3.0,>1.1 in c:\\users\\shana\\.conda\\envs\\langchain_env\\lib\\site-packages (from huggingface-hub[inference]>=0.19.0->llama-index-embeddings-huggingface) (2.6.3)\n",
      "Requirement already satisfied: SQLAlchemy>=1.4.49 in c:\\users\\shana\\.conda\\envs\\langchain_env\\lib\\site-packages (from SQLAlchemy[asyncio]>=1.4.49->llama-index-core<0.11.0,>=0.10.1->llama-index-embeddings-huggingface) (2.0.28)\n",
      "Requirement already satisfied: dataclasses-json in c:\\users\\shana\\.conda\\envs\\langchain_env\\lib\\site-packages (from llama-index-core<0.11.0,>=0.10.1->llama-index-embeddings-huggingface) (0.6.4)\n",
      "Requirement already satisfied: deprecated>=1.2.9.3 in c:\\users\\shana\\.conda\\envs\\langchain_env\\lib\\site-packages (from llama-index-core<0.11.0,>=0.10.1->llama-index-embeddings-huggingface) (1.2.14)\n",
      "Requirement already satisfied: dirtyjson<2.0.0,>=1.0.8 in c:\\users\\shana\\.conda\\envs\\langchain_env\\lib\\site-packages (from llama-index-core<0.11.0,>=0.10.1->llama-index-embeddings-huggingface) (1.0.8)\n",
      "Requirement already satisfied: httpx in c:\\users\\shana\\.conda\\envs\\langchain_env\\lib\\site-packages (from llama-index-core<0.11.0,>=0.10.1->llama-index-embeddings-huggingface) (0.27.0)\n",
      "Requirement already satisfied: llamaindex-py-client<0.2.0,>=0.1.13 in c:\\users\\shana\\.conda\\envs\\langchain_env\\lib\\site-packages (from llama-index-core<0.11.0,>=0.10.1->llama-index-embeddings-huggingface) (0.1.13)\n",
      "Requirement already satisfied: nest-asyncio<2.0.0,>=1.5.8 in c:\\users\\shana\\.conda\\envs\\langchain_env\\lib\\site-packages (from llama-index-core<0.11.0,>=0.10.1->llama-index-embeddings-huggingface) (1.6.0)\n",
      "Requirement already satisfied: networkx>=3.0 in c:\\users\\shana\\.conda\\envs\\langchain_env\\lib\\site-packages (from llama-index-core<0.11.0,>=0.10.1->llama-index-embeddings-huggingface) (3.2.1)\n",
      "Requirement already satisfied: nltk<4.0.0,>=3.8.1 in c:\\users\\shana\\.conda\\envs\\langchain_env\\lib\\site-packages (from llama-index-core<0.11.0,>=0.10.1->llama-index-embeddings-huggingface) (3.8.1)\n",
      "Requirement already satisfied: numpy in c:\\users\\shana\\.conda\\envs\\langchain_env\\lib\\site-packages (from llama-index-core<0.11.0,>=0.10.1->llama-index-embeddings-huggingface) (1.26.4)\n",
      "Requirement already satisfied: openai>=1.1.0 in c:\\users\\shana\\.conda\\envs\\langchain_env\\lib\\site-packages (from llama-index-core<0.11.0,>=0.10.1->llama-index-embeddings-huggingface) (1.13.3)\n",
      "Requirement already satisfied: pandas in c:\\users\\shana\\.conda\\envs\\langchain_env\\lib\\site-packages (from llama-index-core<0.11.0,>=0.10.1->llama-index-embeddings-huggingface) (2.2.1)\n",
      "Requirement already satisfied: pillow>=9.0.0 in c:\\users\\shana\\.conda\\envs\\langchain_env\\lib\\site-packages (from llama-index-core<0.11.0,>=0.10.1->llama-index-embeddings-huggingface) (10.2.0)\n",
      "Requirement already satisfied: tenacity<9.0.0,>=8.2.0 in c:\\users\\shana\\.conda\\envs\\langchain_env\\lib\\site-packages (from llama-index-core<0.11.0,>=0.10.1->llama-index-embeddings-huggingface) (8.2.3)\n",
      "Requirement already satisfied: tiktoken>=0.3.3 in c:\\users\\shana\\.conda\\envs\\langchain_env\\lib\\site-packages (from llama-index-core<0.11.0,>=0.10.1->llama-index-embeddings-huggingface) (0.6.0)\n",
      "Requirement already satisfied: typing-inspect>=0.8.0 in c:\\users\\shana\\.conda\\envs\\langchain_env\\lib\\site-packages (from llama-index-core<0.11.0,>=0.10.1->llama-index-embeddings-huggingface) (0.9.0)\n",
      "Requirement already satisfied: transformers<5.0.0,>=4.34.0 in c:\\users\\shana\\.conda\\envs\\langchain_env\\lib\\site-packages (from sentence-transformers<3.0.0,>=2.6.1->llama-index-embeddings-huggingface) (4.39.1)\n",
      "Requirement already satisfied: torch>=1.11.0 in c:\\users\\shana\\.conda\\envs\\langchain_env\\lib\\site-packages (from sentence-transformers<3.0.0,>=2.6.1->llama-index-embeddings-huggingface) (2.2.1)\n",
      "Requirement already satisfied: scikit-learn in c:\\users\\shana\\.conda\\envs\\langchain_env\\lib\\site-packages (from sentence-transformers<3.0.0,>=2.6.1->llama-index-embeddings-huggingface) (1.4.1.post1)\n",
      "Requirement already satisfied: scipy in c:\\users\\shana\\.conda\\envs\\langchain_env\\lib\\site-packages (from sentence-transformers<3.0.0,>=2.6.1->llama-index-embeddings-huggingface) (1.12.0)\n",
      "Requirement already satisfied: aiosignal>=1.1.2 in c:\\users\\shana\\.conda\\envs\\langchain_env\\lib\\site-packages (from aiohttp->huggingface-hub[inference]>=0.19.0->llama-index-embeddings-huggingface) (1.3.1)\n",
      "Requirement already satisfied: attrs>=17.3.0 in c:\\users\\shana\\.conda\\envs\\langchain_env\\lib\\site-packages (from aiohttp->huggingface-hub[inference]>=0.19.0->llama-index-embeddings-huggingface) (23.2.0)\n",
      "Requirement already satisfied: frozenlist>=1.1.1 in c:\\users\\shana\\.conda\\envs\\langchain_env\\lib\\site-packages (from aiohttp->huggingface-hub[inference]>=0.19.0->llama-index-embeddings-huggingface) (1.4.1)\n",
      "Requirement already satisfied: multidict<7.0,>=4.5 in c:\\users\\shana\\.conda\\envs\\langchain_env\\lib\\site-packages (from aiohttp->huggingface-hub[inference]>=0.19.0->llama-index-embeddings-huggingface) (6.0.5)\n",
      "Requirement already satisfied: yarl<2.0,>=1.0 in c:\\users\\shana\\.conda\\envs\\langchain_env\\lib\\site-packages (from aiohttp->huggingface-hub[inference]>=0.19.0->llama-index-embeddings-huggingface) (1.9.4)\n",
      "Requirement already satisfied: wrapt<2,>=1.10 in c:\\users\\shana\\.conda\\envs\\langchain_env\\lib\\site-packages (from deprecated>=1.2.9.3->llama-index-core<0.11.0,>=0.10.1->llama-index-embeddings-huggingface) (1.16.0)\n",
      "Requirement already satisfied: anyio in c:\\users\\shana\\.conda\\envs\\langchain_env\\lib\\site-packages (from httpx->llama-index-core<0.11.0,>=0.10.1->llama-index-embeddings-huggingface) (4.3.0)\n",
      "Requirement already satisfied: certifi in c:\\users\\shana\\.conda\\envs\\langchain_env\\lib\\site-packages (from httpx->llama-index-core<0.11.0,>=0.10.1->llama-index-embeddings-huggingface) (2024.2.2)\n",
      "Requirement already satisfied: httpcore==1.* in c:\\users\\shana\\.conda\\envs\\langchain_env\\lib\\site-packages (from httpx->llama-index-core<0.11.0,>=0.10.1->llama-index-embeddings-huggingface) (1.0.4)\n",
      "Requirement already satisfied: idna in c:\\users\\shana\\.conda\\envs\\langchain_env\\lib\\site-packages (from httpx->llama-index-core<0.11.0,>=0.10.1->llama-index-embeddings-huggingface) (3.6)\n",
      "Requirement already satisfied: sniffio in c:\\users\\shana\\.conda\\envs\\langchain_env\\lib\\site-packages (from httpx->llama-index-core<0.11.0,>=0.10.1->llama-index-embeddings-huggingface) (1.3.1)\n",
      "Requirement already satisfied: h11<0.15,>=0.13 in c:\\users\\shana\\.conda\\envs\\langchain_env\\lib\\site-packages (from httpcore==1.*->httpx->llama-index-core<0.11.0,>=0.10.1->llama-index-embeddings-huggingface) (0.14.0)\n",
      "Requirement already satisfied: click in c:\\users\\shana\\.conda\\envs\\langchain_env\\lib\\site-packages (from nltk<4.0.0,>=3.8.1->llama-index-core<0.11.0,>=0.10.1->llama-index-embeddings-huggingface) (8.1.7)\n",
      "Requirement already satisfied: joblib in c:\\users\\shana\\.conda\\envs\\langchain_env\\lib\\site-packages (from nltk<4.0.0,>=3.8.1->llama-index-core<0.11.0,>=0.10.1->llama-index-embeddings-huggingface) (1.3.2)\n",
      "Requirement already satisfied: regex>=2021.8.3 in c:\\users\\shana\\.conda\\envs\\langchain_env\\lib\\site-packages (from nltk<4.0.0,>=3.8.1->llama-index-core<0.11.0,>=0.10.1->llama-index-embeddings-huggingface) (2023.12.25)\n",
      "Requirement already satisfied: distro<2,>=1.7.0 in c:\\users\\shana\\.conda\\envs\\langchain_env\\lib\\site-packages (from openai>=1.1.0->llama-index-core<0.11.0,>=0.10.1->llama-index-embeddings-huggingface) (1.9.0)\n",
      "Requirement already satisfied: annotated-types>=0.4.0 in c:\\users\\shana\\.conda\\envs\\langchain_env\\lib\\site-packages (from pydantic<3.0,>1.1->huggingface-hub[inference]>=0.19.0->llama-index-embeddings-huggingface) (0.6.0)\n",
      "Requirement already satisfied: pydantic-core==2.16.3 in c:\\users\\shana\\.conda\\envs\\langchain_env\\lib\\site-packages (from pydantic<3.0,>1.1->huggingface-hub[inference]>=0.19.0->llama-index-embeddings-huggingface) (2.16.3)\n",
      "Requirement already satisfied: charset-normalizer<4,>=2 in c:\\users\\shana\\.conda\\envs\\langchain_env\\lib\\site-packages (from requests->huggingface-hub>=0.19.0->huggingface-hub[inference]>=0.19.0->llama-index-embeddings-huggingface) (3.3.2)\n",
      "Requirement already satisfied: urllib3<3,>=1.21.1 in c:\\users\\shana\\.conda\\envs\\langchain_env\\lib\\site-packages (from requests->huggingface-hub>=0.19.0->huggingface-hub[inference]>=0.19.0->llama-index-embeddings-huggingface) (2.2.1)\n",
      "Requirement already satisfied: greenlet!=0.4.17 in c:\\users\\shana\\.conda\\envs\\langchain_env\\lib\\site-packages (from SQLAlchemy>=1.4.49->SQLAlchemy[asyncio]>=1.4.49->llama-index-core<0.11.0,>=0.10.1->llama-index-embeddings-huggingface) (3.0.3)\n",
      "Requirement already satisfied: sympy in c:\\users\\shana\\.conda\\envs\\langchain_env\\lib\\site-packages (from torch>=1.11.0->sentence-transformers<3.0.0,>=2.6.1->llama-index-embeddings-huggingface) (1.12)\n",
      "Requirement already satisfied: jinja2 in c:\\users\\shana\\.conda\\envs\\langchain_env\\lib\\site-packages (from torch>=1.11.0->sentence-transformers<3.0.0,>=2.6.1->llama-index-embeddings-huggingface) (3.1.3)\n",
      "Requirement already satisfied: colorama in c:\\users\\shana\\.conda\\envs\\langchain_env\\lib\\site-packages (from tqdm>=4.42.1->huggingface-hub>=0.19.0->huggingface-hub[inference]>=0.19.0->llama-index-embeddings-huggingface) (0.4.6)\n",
      "Requirement already satisfied: tokenizers<0.19,>=0.14 in c:\\users\\shana\\.conda\\envs\\langchain_env\\lib\\site-packages (from transformers<5.0.0,>=4.34.0->sentence-transformers<3.0.0,>=2.6.1->llama-index-embeddings-huggingface) (0.15.2)\n",
      "Requirement already satisfied: safetensors>=0.4.1 in c:\\users\\shana\\.conda\\envs\\langchain_env\\lib\\site-packages (from transformers<5.0.0,>=4.34.0->sentence-transformers<3.0.0,>=2.6.1->llama-index-embeddings-huggingface) (0.4.2)\n",
      "Requirement already satisfied: mypy-extensions>=0.3.0 in c:\\users\\shana\\.conda\\envs\\langchain_env\\lib\\site-packages (from typing-inspect>=0.8.0->llama-index-core<0.11.0,>=0.10.1->llama-index-embeddings-huggingface) (1.0.0)\n",
      "Requirement already satisfied: marshmallow<4.0.0,>=3.18.0 in c:\\users\\shana\\.conda\\envs\\langchain_env\\lib\\site-packages (from dataclasses-json->llama-index-core<0.11.0,>=0.10.1->llama-index-embeddings-huggingface) (3.21.0)\n",
      "Requirement already satisfied: python-dateutil>=2.8.2 in c:\\users\\shana\\.conda\\envs\\langchain_env\\lib\\site-packages (from pandas->llama-index-core<0.11.0,>=0.10.1->llama-index-embeddings-huggingface) (2.9.0)\n",
      "Requirement already satisfied: pytz>=2020.1 in c:\\users\\shana\\.conda\\envs\\langchain_env\\lib\\site-packages (from pandas->llama-index-core<0.11.0,>=0.10.1->llama-index-embeddings-huggingface) (2024.1)\n",
      "Requirement already satisfied: tzdata>=2022.7 in c:\\users\\shana\\.conda\\envs\\langchain_env\\lib\\site-packages (from pandas->llama-index-core<0.11.0,>=0.10.1->llama-index-embeddings-huggingface) (2024.1)\n",
      "Requirement already satisfied: threadpoolctl>=2.0.0 in c:\\users\\shana\\.conda\\envs\\langchain_env\\lib\\site-packages (from scikit-learn->sentence-transformers<3.0.0,>=2.6.1->llama-index-embeddings-huggingface) (3.3.0)\n",
      "Requirement already satisfied: six>=1.5 in c:\\users\\shana\\.conda\\envs\\langchain_env\\lib\\site-packages (from python-dateutil>=2.8.2->pandas->llama-index-core<0.11.0,>=0.10.1->llama-index-embeddings-huggingface) (1.16.0)\n",
      "Requirement already satisfied: MarkupSafe>=2.0 in c:\\users\\shana\\.conda\\envs\\langchain_env\\lib\\site-packages (from jinja2->torch>=1.11.0->sentence-transformers<3.0.0,>=2.6.1->llama-index-embeddings-huggingface) (2.1.5)\n",
      "Requirement already satisfied: mpmath>=0.19 in c:\\users\\shana\\.conda\\envs\\langchain_env\\lib\\site-packages (from sympy->torch>=1.11.0->sentence-transformers<3.0.0,>=2.6.1->llama-index-embeddings-huggingface) (1.3.0)\n",
      "Downloading llama_index_embeddings_huggingface-0.2.0-py3-none-any.whl (7.1 kB)\n",
      "Downloading sentence_transformers-2.7.0-py3-none-any.whl (171 kB)\n",
      "   ---------------------------------------- 0.0/171.5 kB ? eta -:--:--\n",
      "   --------- ------------------------------ 41.0/171.5 kB 1.9 MB/s eta 0:00:01\n",
      "   ---------------------------------------- 171.5/171.5 kB 3.4 MB/s eta 0:00:00\n",
      "Installing collected packages: sentence-transformers, llama-index-embeddings-huggingface\n",
      "  Attempting uninstall: sentence-transformers\n",
      "    Found existing installation: sentence-transformers 2.6.0\n",
      "    Uninstalling sentence-transformers-2.6.0:\n",
      "      Successfully uninstalled sentence-transformers-2.6.0\n",
      "Successfully installed llama-index-embeddings-huggingface-0.2.0 sentence-transformers-2.7.0\n",
      "Requirement already satisfied: llama-parse in c:\\users\\shana\\.conda\\envs\\langchain_env\\lib\\site-packages (0.3.9)\n",
      "Requirement already satisfied: llama-index-core>=0.10.7 in c:\\users\\shana\\.conda\\envs\\langchain_env\\lib\\site-packages (from llama-parse) (0.10.23.post1)\n",
      "Requirement already satisfied: PyYAML>=6.0.1 in c:\\users\\shana\\.conda\\envs\\langchain_env\\lib\\site-packages (from llama-index-core>=0.10.7->llama-parse) (6.0.1)\n",
      "Requirement already satisfied: SQLAlchemy>=1.4.49 in c:\\users\\shana\\.conda\\envs\\langchain_env\\lib\\site-packages (from SQLAlchemy[asyncio]>=1.4.49->llama-index-core>=0.10.7->llama-parse) (2.0.28)\n",
      "Requirement already satisfied: aiohttp<4.0.0,>=3.8.6 in c:\\users\\shana\\.conda\\envs\\langchain_env\\lib\\site-packages (from llama-index-core>=0.10.7->llama-parse) (3.9.3)\n",
      "Requirement already satisfied: dataclasses-json in c:\\users\\shana\\.conda\\envs\\langchain_env\\lib\\site-packages (from llama-index-core>=0.10.7->llama-parse) (0.6.4)\n",
      "Requirement already satisfied: deprecated>=1.2.9.3 in c:\\users\\shana\\.conda\\envs\\langchain_env\\lib\\site-packages (from llama-index-core>=0.10.7->llama-parse) (1.2.14)\n",
      "Requirement already satisfied: dirtyjson<2.0.0,>=1.0.8 in c:\\users\\shana\\.conda\\envs\\langchain_env\\lib\\site-packages (from llama-index-core>=0.10.7->llama-parse) (1.0.8)\n",
      "Requirement already satisfied: fsspec>=2023.5.0 in c:\\users\\shana\\.conda\\envs\\langchain_env\\lib\\site-packages (from llama-index-core>=0.10.7->llama-parse) (2024.2.0)\n",
      "Requirement already satisfied: httpx in c:\\users\\shana\\.conda\\envs\\langchain_env\\lib\\site-packages (from llama-index-core>=0.10.7->llama-parse) (0.27.0)\n",
      "Requirement already satisfied: llamaindex-py-client<0.2.0,>=0.1.13 in c:\\users\\shana\\.conda\\envs\\langchain_env\\lib\\site-packages (from llama-index-core>=0.10.7->llama-parse) (0.1.13)\n",
      "Requirement already satisfied: nest-asyncio<2.0.0,>=1.5.8 in c:\\users\\shana\\.conda\\envs\\langchain_env\\lib\\site-packages (from llama-index-core>=0.10.7->llama-parse) (1.6.0)\n",
      "Requirement already satisfied: networkx>=3.0 in c:\\users\\shana\\.conda\\envs\\langchain_env\\lib\\site-packages (from llama-index-core>=0.10.7->llama-parse) (3.2.1)\n",
      "Requirement already satisfied: nltk<4.0.0,>=3.8.1 in c:\\users\\shana\\.conda\\envs\\langchain_env\\lib\\site-packages (from llama-index-core>=0.10.7->llama-parse) (3.8.1)\n",
      "Requirement already satisfied: numpy in c:\\users\\shana\\.conda\\envs\\langchain_env\\lib\\site-packages (from llama-index-core>=0.10.7->llama-parse) (1.26.4)\n",
      "Requirement already satisfied: openai>=1.1.0 in c:\\users\\shana\\.conda\\envs\\langchain_env\\lib\\site-packages (from llama-index-core>=0.10.7->llama-parse) (1.13.3)\n",
      "Requirement already satisfied: pandas in c:\\users\\shana\\.conda\\envs\\langchain_env\\lib\\site-packages (from llama-index-core>=0.10.7->llama-parse) (2.2.1)\n",
      "Requirement already satisfied: pillow>=9.0.0 in c:\\users\\shana\\.conda\\envs\\langchain_env\\lib\\site-packages (from llama-index-core>=0.10.7->llama-parse) (10.2.0)\n",
      "Requirement already satisfied: requests>=2.31.0 in c:\\users\\shana\\.conda\\envs\\langchain_env\\lib\\site-packages (from llama-index-core>=0.10.7->llama-parse) (2.31.0)\n",
      "Requirement already satisfied: tenacity<9.0.0,>=8.2.0 in c:\\users\\shana\\.conda\\envs\\langchain_env\\lib\\site-packages (from llama-index-core>=0.10.7->llama-parse) (8.2.3)\n",
      "Requirement already satisfied: tiktoken>=0.3.3 in c:\\users\\shana\\.conda\\envs\\langchain_env\\lib\\site-packages (from llama-index-core>=0.10.7->llama-parse) (0.6.0)\n",
      "Requirement already satisfied: tqdm<5.0.0,>=4.66.1 in c:\\users\\shana\\.conda\\envs\\langchain_env\\lib\\site-packages (from llama-index-core>=0.10.7->llama-parse) (4.66.2)\n",
      "Requirement already satisfied: typing-extensions>=4.5.0 in c:\\users\\shana\\.conda\\envs\\langchain_env\\lib\\site-packages (from llama-index-core>=0.10.7->llama-parse) (4.10.0)\n",
      "Requirement already satisfied: typing-inspect>=0.8.0 in c:\\users\\shana\\.conda\\envs\\langchain_env\\lib\\site-packages (from llama-index-core>=0.10.7->llama-parse) (0.9.0)\n",
      "Requirement already satisfied: aiosignal>=1.1.2 in c:\\users\\shana\\.conda\\envs\\langchain_env\\lib\\site-packages (from aiohttp<4.0.0,>=3.8.6->llama-index-core>=0.10.7->llama-parse) (1.3.1)\n",
      "Requirement already satisfied: attrs>=17.3.0 in c:\\users\\shana\\.conda\\envs\\langchain_env\\lib\\site-packages (from aiohttp<4.0.0,>=3.8.6->llama-index-core>=0.10.7->llama-parse) (23.2.0)\n",
      "Requirement already satisfied: frozenlist>=1.1.1 in c:\\users\\shana\\.conda\\envs\\langchain_env\\lib\\site-packages (from aiohttp<4.0.0,>=3.8.6->llama-index-core>=0.10.7->llama-parse) (1.4.1)\n",
      "Requirement already satisfied: multidict<7.0,>=4.5 in c:\\users\\shana\\.conda\\envs\\langchain_env\\lib\\site-packages (from aiohttp<4.0.0,>=3.8.6->llama-index-core>=0.10.7->llama-parse) (6.0.5)\n",
      "Requirement already satisfied: yarl<2.0,>=1.0 in c:\\users\\shana\\.conda\\envs\\langchain_env\\lib\\site-packages (from aiohttp<4.0.0,>=3.8.6->llama-index-core>=0.10.7->llama-parse) (1.9.4)\n",
      "Requirement already satisfied: wrapt<2,>=1.10 in c:\\users\\shana\\.conda\\envs\\langchain_env\\lib\\site-packages (from deprecated>=1.2.9.3->llama-index-core>=0.10.7->llama-parse) (1.16.0)\n",
      "Requirement already satisfied: pydantic>=1.10 in c:\\users\\shana\\.conda\\envs\\langchain_env\\lib\\site-packages (from llamaindex-py-client<0.2.0,>=0.1.13->llama-index-core>=0.10.7->llama-parse) (2.6.3)\n",
      "Requirement already satisfied: anyio in c:\\users\\shana\\.conda\\envs\\langchain_env\\lib\\site-packages (from httpx->llama-index-core>=0.10.7->llama-parse) (4.3.0)\n",
      "Requirement already satisfied: certifi in c:\\users\\shana\\.conda\\envs\\langchain_env\\lib\\site-packages (from httpx->llama-index-core>=0.10.7->llama-parse) (2024.2.2)\n",
      "Requirement already satisfied: httpcore==1.* in c:\\users\\shana\\.conda\\envs\\langchain_env\\lib\\site-packages (from httpx->llama-index-core>=0.10.7->llama-parse) (1.0.4)\n",
      "Requirement already satisfied: idna in c:\\users\\shana\\.conda\\envs\\langchain_env\\lib\\site-packages (from httpx->llama-index-core>=0.10.7->llama-parse) (3.6)\n",
      "Requirement already satisfied: sniffio in c:\\users\\shana\\.conda\\envs\\langchain_env\\lib\\site-packages (from httpx->llama-index-core>=0.10.7->llama-parse) (1.3.1)\n",
      "Requirement already satisfied: h11<0.15,>=0.13 in c:\\users\\shana\\.conda\\envs\\langchain_env\\lib\\site-packages (from httpcore==1.*->httpx->llama-index-core>=0.10.7->llama-parse) (0.14.0)\n",
      "Requirement already satisfied: click in c:\\users\\shana\\.conda\\envs\\langchain_env\\lib\\site-packages (from nltk<4.0.0,>=3.8.1->llama-index-core>=0.10.7->llama-parse) (8.1.7)\n",
      "Requirement already satisfied: joblib in c:\\users\\shana\\.conda\\envs\\langchain_env\\lib\\site-packages (from nltk<4.0.0,>=3.8.1->llama-index-core>=0.10.7->llama-parse) (1.3.2)\n",
      "Requirement already satisfied: regex>=2021.8.3 in c:\\users\\shana\\.conda\\envs\\langchain_env\\lib\\site-packages (from nltk<4.0.0,>=3.8.1->llama-index-core>=0.10.7->llama-parse) (2023.12.25)\n",
      "Requirement already satisfied: distro<2,>=1.7.0 in c:\\users\\shana\\.conda\\envs\\langchain_env\\lib\\site-packages (from openai>=1.1.0->llama-index-core>=0.10.7->llama-parse) (1.9.0)\n",
      "Requirement already satisfied: charset-normalizer<4,>=2 in c:\\users\\shana\\.conda\\envs\\langchain_env\\lib\\site-packages (from requests>=2.31.0->llama-index-core>=0.10.7->llama-parse) (3.3.2)\n",
      "Requirement already satisfied: urllib3<3,>=1.21.1 in c:\\users\\shana\\.conda\\envs\\langchain_env\\lib\\site-packages (from requests>=2.31.0->llama-index-core>=0.10.7->llama-parse) (2.2.1)\n",
      "Requirement already satisfied: greenlet!=0.4.17 in c:\\users\\shana\\.conda\\envs\\langchain_env\\lib\\site-packages (from SQLAlchemy>=1.4.49->SQLAlchemy[asyncio]>=1.4.49->llama-index-core>=0.10.7->llama-parse) (3.0.3)\n",
      "Requirement already satisfied: colorama in c:\\users\\shana\\.conda\\envs\\langchain_env\\lib\\site-packages (from tqdm<5.0.0,>=4.66.1->llama-index-core>=0.10.7->llama-parse) (0.4.6)\n",
      "Requirement already satisfied: mypy-extensions>=0.3.0 in c:\\users\\shana\\.conda\\envs\\langchain_env\\lib\\site-packages (from typing-inspect>=0.8.0->llama-index-core>=0.10.7->llama-parse) (1.0.0)\n",
      "Requirement already satisfied: marshmallow<4.0.0,>=3.18.0 in c:\\users\\shana\\.conda\\envs\\langchain_env\\lib\\site-packages (from dataclasses-json->llama-index-core>=0.10.7->llama-parse) (3.21.0)\n",
      "Requirement already satisfied: python-dateutil>=2.8.2 in c:\\users\\shana\\.conda\\envs\\langchain_env\\lib\\site-packages (from pandas->llama-index-core>=0.10.7->llama-parse) (2.9.0)\n",
      "Requirement already satisfied: pytz>=2020.1 in c:\\users\\shana\\.conda\\envs\\langchain_env\\lib\\site-packages (from pandas->llama-index-core>=0.10.7->llama-parse) (2024.1)\n",
      "Requirement already satisfied: tzdata>=2022.7 in c:\\users\\shana\\.conda\\envs\\langchain_env\\lib\\site-packages (from pandas->llama-index-core>=0.10.7->llama-parse) (2024.1)\n",
      "Requirement already satisfied: packaging>=17.0 in c:\\users\\shana\\.conda\\envs\\langchain_env\\lib\\site-packages (from marshmallow<4.0.0,>=3.18.0->dataclasses-json->llama-index-core>=0.10.7->llama-parse) (23.2)\n",
      "Requirement already satisfied: annotated-types>=0.4.0 in c:\\users\\shana\\.conda\\envs\\langchain_env\\lib\\site-packages (from pydantic>=1.10->llamaindex-py-client<0.2.0,>=0.1.13->llama-index-core>=0.10.7->llama-parse) (0.6.0)\n",
      "Requirement already satisfied: pydantic-core==2.16.3 in c:\\users\\shana\\.conda\\envs\\langchain_env\\lib\\site-packages (from pydantic>=1.10->llamaindex-py-client<0.2.0,>=0.1.13->llama-index-core>=0.10.7->llama-parse) (2.16.3)\n",
      "Requirement already satisfied: six>=1.5 in c:\\users\\shana\\.conda\\envs\\langchain_env\\lib\\site-packages (from python-dateutil>=2.8.2->pandas->llama-index-core>=0.10.7->llama-parse) (1.16.0)\n",
      "Collecting replicate\n",
      "  Downloading replicate-0.25.2-py3-none-any.whl.metadata (24 kB)\n",
      "Requirement already satisfied: httpx<1,>=0.21.0 in c:\\users\\shana\\.conda\\envs\\langchain_env\\lib\\site-packages (from replicate) (0.27.0)\n",
      "Requirement already satisfied: packaging in c:\\users\\shana\\.conda\\envs\\langchain_env\\lib\\site-packages (from replicate) (23.2)\n",
      "Requirement already satisfied: pydantic>1.10.7 in c:\\users\\shana\\.conda\\envs\\langchain_env\\lib\\site-packages (from replicate) (2.6.3)\n",
      "Requirement already satisfied: typing-extensions>=4.5.0 in c:\\users\\shana\\.conda\\envs\\langchain_env\\lib\\site-packages (from replicate) (4.10.0)\n",
      "Requirement already satisfied: anyio in c:\\users\\shana\\.conda\\envs\\langchain_env\\lib\\site-packages (from httpx<1,>=0.21.0->replicate) (4.3.0)\n",
      "Requirement already satisfied: certifi in c:\\users\\shana\\.conda\\envs\\langchain_env\\lib\\site-packages (from httpx<1,>=0.21.0->replicate) (2024.2.2)\n",
      "Requirement already satisfied: httpcore==1.* in c:\\users\\shana\\.conda\\envs\\langchain_env\\lib\\site-packages (from httpx<1,>=0.21.0->replicate) (1.0.4)\n",
      "Requirement already satisfied: idna in c:\\users\\shana\\.conda\\envs\\langchain_env\\lib\\site-packages (from httpx<1,>=0.21.0->replicate) (3.6)\n",
      "Requirement already satisfied: sniffio in c:\\users\\shana\\.conda\\envs\\langchain_env\\lib\\site-packages (from httpx<1,>=0.21.0->replicate) (1.3.1)\n",
      "Requirement already satisfied: h11<0.15,>=0.13 in c:\\users\\shana\\.conda\\envs\\langchain_env\\lib\\site-packages (from httpcore==1.*->httpx<1,>=0.21.0->replicate) (0.14.0)\n",
      "Requirement already satisfied: annotated-types>=0.4.0 in c:\\users\\shana\\.conda\\envs\\langchain_env\\lib\\site-packages (from pydantic>1.10.7->replicate) (0.6.0)\n",
      "Requirement already satisfied: pydantic-core==2.16.3 in c:\\users\\shana\\.conda\\envs\\langchain_env\\lib\\site-packages (from pydantic>1.10.7->replicate) (2.16.3)\n",
      "Downloading replicate-0.25.2-py3-none-any.whl (39 kB)\n",
      "Installing collected packages: replicate\n",
      "Successfully installed replicate-0.25.2\n"
     ]
    }
   ],
   "source": [
    "!pip install llama-index\n",
    "!pip install llama-index-llms-ollama\n",
    "!pip install llama-index-llms-replicate\n",
    "!pip install llama-index-embeddings-huggingface\n",
    "!pip install llama-parse\n",
    "!pip install replicate"
   ]
  },
  {
   "cell_type": "code",
   "execution_count": 1,
   "metadata": {},
   "outputs": [],
   "source": [
    "import os \n",
    "import nest_asyncio\n",
    "from dotenv import load_dotenv, find_dotenv\n",
    "from llama_index.embeddings.huggingface import HuggingFaceEmbedding\n",
    "from llama_index.core import Settings\n",
    "from llama_index.llms.ollama import Ollama\n",
    "from llama_parse import LlamaParse\n",
    "from llama_index.core import SimpleDirectoryReader\n",
    "\n",
    "\n"
   ]
  },
  {
   "cell_type": "code",
   "execution_count": 2,
   "metadata": {},
   "outputs": [],
   "source": [
    "_ = load_dotenv(find_dotenv()) # read local .env file\n",
    "nest_asyncio.apply()"
   ]
  },
  {
   "cell_type": "code",
   "execution_count": 26,
   "metadata": {},
   "outputs": [],
   "source": [
    "llm = Ollama(model=\"llama2\", request_timeout=120.0)"
   ]
  },
  {
   "cell_type": "code",
   "execution_count": 3,
   "metadata": {},
   "outputs": [],
   "source": [
    "REPLICATE_API_TOKEN=os.environ['REPLICATE_API_TOKEN']"
   ]
  },
  {
   "cell_type": "code",
   "execution_count": 4,
   "metadata": {},
   "outputs": [],
   "source": [
    "from llama_index.llms.replicate import Replicate\n",
    "llm_replicate = Replicate(model=\"meta/meta-llama-3-70b-instruct\")"
   ]
  },
  {
   "cell_type": "code",
   "execution_count": 7,
   "metadata": {},
   "outputs": [
    {
     "data": {
      "application/vnd.jupyter.widget-view+json": {
       "model_id": "367e7c282e814a15bb098c052736dabd",
       "version_major": 2,
       "version_minor": 0
      },
      "text/plain": [
       "modules.json:   0%|          | 0.00/349 [00:00<?, ?B/s]"
      ]
     },
     "metadata": {},
     "output_type": "display_data"
    },
    {
     "name": "stderr",
     "output_type": "stream",
     "text": [
      "c:\\Users\\shana\\.conda\\envs\\langchain_env\\Lib\\site-packages\\huggingface_hub\\file_download.py:149: UserWarning: `huggingface_hub` cache-system uses symlinks by default to efficiently store duplicated files but your machine does not support them in C:\\Users\\shana\\AppData\\Local\\llama_index\\models--BAAI--bge-small-en-v1.5. Caching files will still work but in a degraded version that might require more space on your disk. This warning can be disabled by setting the `HF_HUB_DISABLE_SYMLINKS_WARNING` environment variable. For more details, see https://huggingface.co/docs/huggingface_hub/how-to-cache#limitations.\n",
      "To support symlinks on Windows, you either need to activate Developer Mode or to run Python as an administrator. In order to see activate developer mode, see this article: https://docs.microsoft.com/en-us/windows/apps/get-started/enable-your-device-for-development\n",
      "  warnings.warn(message)\n"
     ]
    },
    {
     "data": {
      "application/vnd.jupyter.widget-view+json": {
       "model_id": "affddc5249ed4a1d8758c4070a39b3fe",
       "version_major": 2,
       "version_minor": 0
      },
      "text/plain": [
       "config_sentence_transformers.json:   0%|          | 0.00/124 [00:00<?, ?B/s]"
      ]
     },
     "metadata": {},
     "output_type": "display_data"
    },
    {
     "data": {
      "application/vnd.jupyter.widget-view+json": {
       "model_id": "61902c6d371942a1b28dc5a233e03300",
       "version_major": 2,
       "version_minor": 0
      },
      "text/plain": [
       "README.md:   0%|          | 0.00/94.8k [00:00<?, ?B/s]"
      ]
     },
     "metadata": {},
     "output_type": "display_data"
    },
    {
     "data": {
      "application/vnd.jupyter.widget-view+json": {
       "model_id": "9841d09273864ba0a3b41a5711d76e40",
       "version_major": 2,
       "version_minor": 0
      },
      "text/plain": [
       "sentence_bert_config.json:   0%|          | 0.00/52.0 [00:00<?, ?B/s]"
      ]
     },
     "metadata": {},
     "output_type": "display_data"
    },
    {
     "data": {
      "application/vnd.jupyter.widget-view+json": {
       "model_id": "9608aeb116604c2fa80f5e0e6d4ae5ac",
       "version_major": 2,
       "version_minor": 0
      },
      "text/plain": [
       "config.json:   0%|          | 0.00/743 [00:00<?, ?B/s]"
      ]
     },
     "metadata": {},
     "output_type": "display_data"
    },
    {
     "data": {
      "application/vnd.jupyter.widget-view+json": {
       "model_id": "3820c82a76194b3cb17a9450060b0a9f",
       "version_major": 2,
       "version_minor": 0
      },
      "text/plain": [
       "model.safetensors:   0%|          | 0.00/133M [00:00<?, ?B/s]"
      ]
     },
     "metadata": {},
     "output_type": "display_data"
    },
    {
     "data": {
      "application/vnd.jupyter.widget-view+json": {
       "model_id": "71cfbcefbc704846995fca502aa0efdc",
       "version_major": 2,
       "version_minor": 0
      },
      "text/plain": [
       "tokenizer_config.json:   0%|          | 0.00/366 [00:00<?, ?B/s]"
      ]
     },
     "metadata": {},
     "output_type": "display_data"
    },
    {
     "data": {
      "application/vnd.jupyter.widget-view+json": {
       "model_id": "272ce38627c944068c368a0a69a7edae",
       "version_major": 2,
       "version_minor": 0
      },
      "text/plain": [
       "vocab.txt:   0%|          | 0.00/232k [00:00<?, ?B/s]"
      ]
     },
     "metadata": {},
     "output_type": "display_data"
    },
    {
     "data": {
      "application/vnd.jupyter.widget-view+json": {
       "model_id": "551ff61874b640d787689da5fcfd8041",
       "version_major": 2,
       "version_minor": 0
      },
      "text/plain": [
       "tokenizer.json:   0%|          | 0.00/711k [00:00<?, ?B/s]"
      ]
     },
     "metadata": {},
     "output_type": "display_data"
    },
    {
     "data": {
      "application/vnd.jupyter.widget-view+json": {
       "model_id": "2c71d15d20df45d791b18f5332319019",
       "version_major": 2,
       "version_minor": 0
      },
      "text/plain": [
       "special_tokens_map.json:   0%|          | 0.00/125 [00:00<?, ?B/s]"
      ]
     },
     "metadata": {},
     "output_type": "display_data"
    },
    {
     "data": {
      "application/vnd.jupyter.widget-view+json": {
       "model_id": "3b0fa18b735f41ffa562c533c15a2045",
       "version_major": 2,
       "version_minor": 0
      },
      "text/plain": [
       "1_Pooling/config.json:   0%|          | 0.00/190 [00:00<?, ?B/s]"
      ]
     },
     "metadata": {},
     "output_type": "display_data"
    }
   ],
   "source": [
    "embed_model = HuggingFaceEmbedding(model_name=\"BAAI/bge-small-en-v1.5\")"
   ]
  },
  {
   "cell_type": "code",
   "execution_count": 27,
   "metadata": {},
   "outputs": [],
   "source": [
    "\n",
    "Settings.llm = llm\n",
    "Settings.embed_model = embed_model"
   ]
  },
  {
   "cell_type": "code",
   "execution_count": 16,
   "metadata": {},
   "outputs": [],
   "source": [
    "#wget \"https://www.dropbox.com/scl/fi/t1soxfjdp0v44an6sdymd/drake_kendrick_beef.pdf?rlkey=u9546ymb7fj8lk2v64r6p5r5k&st=wjzzrgil&dl=1\" -O data/drake_kendrick_beef.pdf\n",
    "#wget \"https://www.dropbox.com/scl/fi/nts3n64s6kymner2jppd6/drake.pdf?rlkey=hksirpqwzlzqoejn55zemk6ld&st=mohyfyh4&dl=1\" -O data/drake.pdf\n",
    "#wget \"https://www.dropbox.com/scl/fi/8ax2vnoebhmy44bes2n1d/kendrick.pdf?rlkey=fhxvn94t5amdqcv9vshifd3hj&st=dxdtytn6&dl=1\" -O data/kendrick.pdf"
   ]
  },
  {
   "cell_type": "code",
   "execution_count": 19,
   "metadata": {},
   "outputs": [],
   "source": [
    "\n",
    "# docs_kendrick = LlamaParse(result_type=\"text\").load_data(\"./data/kendrick.pdf\")\n",
    "# docs_drake = LlamaParse(result_type=\"text\").load_data(\"./data/drake.pdf\")\n",
    "# docs_both = LlamaParse(result_type=\"text\").load_data(\"./data/drake_kendrick_beef.pdf\")\n",
    "\n",
    "\n",
    "docs_kendrick = SimpleDirectoryReader(input_files=[\"data/kendrick.pdf\"]).load_data()\n",
    "docs_drake = SimpleDirectoryReader(input_files=[\"data/drake.pdf\"]).load_data()\n",
    "docs_both = SimpleDirectoryReader(input_files=[\"data/drake_kendrick_beef.pdf\"]).load_data()"
   ]
  },
  {
   "cell_type": "code",
   "execution_count": null,
   "metadata": {},
   "outputs": [],
   "source": [
    "response = llm.complete(\"do you like drake or kendrick better?\")\n",
    "print(response)"
   ]
  },
  {
   "cell_type": "code",
   "execution_count": null,
   "metadata": {},
   "outputs": [],
   "source": [
    "stream_response = llm.stream_complete(\n",
    "    \"you're a drake fan. tell me why you like drake more than kendrick\"\n",
    ")\n",
    "\n",
    "for t in stream_response:\n",
    "    print(t.delta, end=\"\")"
   ]
  },
  {
   "cell_type": "code",
   "execution_count": null,
   "metadata": {},
   "outputs": [],
   "source": [
    "from llama_index.core.llms import ChatMessage\n",
    "\n",
    "messages = [\n",
    "    ChatMessage(role=\"system\", content=\"You are Kendrick.\"),\n",
    "    ChatMessage(role=\"user\", content=\"Write a verse.\"),\n",
    "]\n",
    "response = llm.chat(messages)"
   ]
  },
  {
   "cell_type": "code",
   "execution_count": null,
   "metadata": {},
   "outputs": [],
   "source": [
    "#text to SQL "
   ]
  },
  {
   "cell_type": "code",
   "execution_count": 5,
   "metadata": {},
   "outputs": [],
   "source": [
    "from sqlalchemy import (\n",
    "    create_engine,\n",
    "    MetaData,\n",
    "    Table,\n",
    "    Column,\n",
    "    String,\n",
    "    Integer,\n",
    "    select,\n",
    "    column,\n",
    ")\n",
    "\n",
    "engine = create_engine(\"sqlite:///chinook.db\")"
   ]
  },
  {
   "cell_type": "code",
   "execution_count": 6,
   "metadata": {},
   "outputs": [],
   "source": [
    "from llama_index.core import SQLDatabase\n",
    "\n",
    "sql_database = SQLDatabase(engine)"
   ]
  },
  {
   "cell_type": "code",
   "execution_count": 7,
   "metadata": {},
   "outputs": [],
   "source": [
    "from llama_index.core.indices.struct_store import NLSQLTableQueryEngine\n",
    "\n",
    "query_engine = NLSQLTableQueryEngine(\n",
    "    sql_database=sql_database,\n",
    "    tables=[\"albums\", \"tracks\", \"artists\"],\n",
    "    llm=llm_replicate,\n",
    ")"
   ]
  },
  {
   "cell_type": "code",
   "execution_count": 8,
   "metadata": {},
   "outputs": [
    {
     "name": "stdout",
     "output_type": "stream",
     "text": [
      "Here are 5 artists: AC/DC, Accept, Aerosmith, Alanis Morissette, and Alice In Chains.\n"
     ]
    }
   ],
   "source": [
    "response = query_engine.query(\"What are some artists? Limit it to 5.\")\n",
    "\n",
    "print(response)"
   ]
  }
 ],
 "metadata": {
  "kernelspec": {
   "display_name": "langchain_env",
   "language": "python",
   "name": "python3"
  },
  "language_info": {
   "codemirror_mode": {
    "name": "ipython",
    "version": 3
   },
   "file_extension": ".py",
   "mimetype": "text/x-python",
   "name": "python",
   "nbconvert_exporter": "python",
   "pygments_lexer": "ipython3",
   "version": "3.12.2"
  }
 },
 "nbformat": 4,
 "nbformat_minor": 2
}
