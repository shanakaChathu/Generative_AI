{
 "cells": [
  {
   "cell_type": "code",
   "execution_count": 12,
   "metadata": {},
   "outputs": [],
   "source": [
    "from ctransformers import AutoModelForCausalLM\n",
    "llm=AutoModelForCausalLM.from_pretrained(model_path_or_repo_id=\"c:\\\\Users\\\\shana\\\\OneDrive\\\\Desktop\\\\Generative_AI\\\\models\\\\llama-2-7b-chat.ggmlv3.q8_0.bin\",model_type=\"llama\")"
   ]
  },
  {
   "cell_type": "code",
   "execution_count": 8,
   "metadata": {},
   "outputs": [
    {
     "data": {
      "application/vnd.jupyter.widget-view+json": {
       "model_id": "f3b870c7c6bb4289a9206115dcde2787",
       "version_major": 2,
       "version_minor": 0
      },
      "text/plain": [
       "Fetching 1 files:   0%|          | 0/1 [00:00<?, ?it/s]"
      ]
     },
     "metadata": {},
     "output_type": "display_data"
    },
    {
     "data": {
      "application/vnd.jupyter.widget-view+json": {
       "model_id": "1e6a6a6cf52c45c4808b150d4245a913",
       "version_major": 2,
       "version_minor": 0
      },
      "text/plain": [
       "config.json:   0%|          | 0.00/29.0 [00:00<?, ?B/s]"
      ]
     },
     "metadata": {},
     "output_type": "display_data"
    },
    {
     "name": "stderr",
     "output_type": "stream",
     "text": [
      "c:\\Users\\shana\\.conda\\envs\\langchain_env\\Lib\\site-packages\\huggingface_hub\\file_download.py:149: UserWarning: `huggingface_hub` cache-system uses symlinks by default to efficiently store duplicated files but your machine does not support them in C:\\Users\\shana\\.cache\\huggingface\\hub\\models--TheBloke--Llama-2-7B-Chat-GGML. Caching files will still work but in a degraded version that might require more space on your disk. This warning can be disabled by setting the `HF_HUB_DISABLE_SYMLINKS_WARNING` environment variable. For more details, see https://huggingface.co/docs/huggingface_hub/how-to-cache#limitations.\n",
      "To support symlinks on Windows, you either need to activate Developer Mode or to run Python as an administrator. In order to see activate developer mode, see this article: https://docs.microsoft.com/en-us/windows/apps/get-started/enable-your-device-for-development\n",
      "  warnings.warn(message)\n"
     ]
    },
    {
     "data": {
      "application/vnd.jupyter.widget-view+json": {
       "model_id": "a073a3c1a212420b86a59bb2ea93d16e",
       "version_major": 2,
       "version_minor": 0
      },
      "text/plain": [
       "Fetching 0 files: 0it [00:00, ?it/s]"
      ]
     },
     "metadata": {},
     "output_type": "display_data"
    }
   ],
   "source": [
    "#llm=AutoModelForCausalLM.from_pretrained(\"TheBloke/Llama-2-7B-Chat-GGML\",model_file=\"c:\\\\Users\\\\shana\\\\OneDrive\\\\Desktop\\\\Generative_AI\\\\models\\\\llama-2-7b-chat.ggmlv3.q8_0.bin\")"
   ]
  },
  {
   "cell_type": "code",
   "execution_count": 13,
   "metadata": {},
   "outputs": [
    {
     "data": {
      "text/plain": [
       "'\\n\\nHere is the first 10 elements of the periodic table:\\nHydrogen (H)\\nDeuterium (D)\\nLithium (Li)\\nBeryllium (Be)\\nBoron (B)\\nCarbon (C)\\nNitrogen (N)\\nOxygen (O)\\nFluorine (F)\\nNeon (Ne)\\n\\nI hope this helps! Let me know if you have any questions or need further assistance.'"
      ]
     },
     "execution_count": 13,
     "metadata": {},
     "output_type": "execute_result"
    }
   ],
   "source": [
    "prompt=\"\"\"Write a poem to help me remember the first 10 elements on the periodic table, giving each element its own line.\"\"\"\n",
    "tokens = llm.tokenize(prompt)\n",
    "llm(prompt, stream=False)"
   ]
  }
 ],
 "metadata": {
  "kernelspec": {
   "display_name": "langchain_env",
   "language": "python",
   "name": "python3"
  },
  "language_info": {
   "codemirror_mode": {
    "name": "ipython",
    "version": 3
   },
   "file_extension": ".py",
   "mimetype": "text/x-python",
   "name": "python",
   "nbconvert_exporter": "python",
   "pygments_lexer": "ipython3",
   "version": "3.12.2"
  }
 },
 "nbformat": 4,
 "nbformat_minor": 2
}
